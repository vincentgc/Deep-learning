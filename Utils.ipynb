{
 "cells": [
  {
   "cell_type": "code",
   "execution_count": 1,
   "metadata": {
    "collapsed": true
   },
   "outputs": [],
   "source": [
    "from torch.utils import data\n",
    "from torchvision import datasets, transforms,models\n",
    "\n",
    "#计算数据集的mean和std\n",
    "def get_dataset_mean_and_std(directory):\n",
    "    dataset = datasets.ImageFolder(\n",
    "        directory,\n",
    "        transform=transforms.Compose([\n",
    "            transforms.ToTensor()\n",
    "        ])\n",
    "    )\n",
    "\n",
    "    data_loader = data.DataLoader(dataset)\n",
    "\n",
    "    mean = [0, 0, 0]\n",
    "    std = [0, 0, 0]\n",
    "    for channel in range(3):\n",
    "        _mean = 0\n",
    "        _std = 0\n",
    "        for _, (xs, _) in enumerate(data_loader):\n",
    "            img = xs[0][channel].numpy()\n",
    "            _mean += img.mean()\n",
    "            _std += img.std()\n",
    "\n",
    "        mean[channel] = _mean/len(dataset)\n",
    "        std[channel] = _std/len(dataset)\n",
    "    return mean, std"
   ]
  },
  {
   "cell_type": "code",
   "execution_count": 2,
   "metadata": {
    "collapsed": true
   },
   "outputs": [],
   "source": [
    "#保存数据及网络\n",
    "\n",
    "import pickle\n",
    "\n",
    "def save(obj, path):\n",
    "    with open(path, 'wb') as f:\n",
    "        pickle.dump(obj, f)\n",
    "        print('[INFO] Object saved to {}'.format(path))\n",
    "def load_s(path):\n",
    "    with open(path, 'rb') as f:\n",
    "        a=pickle.load(f)\n",
    "        print('[INFO] Object loaded {}'.format(path))\n",
    "        for i in a:\n",
    "            print i\n",
    "def save_net(model, path):\n",
    "    torch.save(model.state_dict(), path)\n",
    "    print('[INFO] Checkpoint saved to {}'.format(path))\n",
    "\n",
    "def load_net(model, path):\n",
    "    model.load_state_dict(torch.load(path))\n",
    "    print('[INFO] Checkpoint {} loaded'.format(path))"
   ]
  },
  {
   "cell_type": "code",
   "execution_count": 3,
   "metadata": {
    "collapsed": false
   },
   "outputs": [
    {
     "data": {
      "text/plain": [
       "'\\n# Get a batch of training data\\ninputs, classes = next(iter(data_loader))\\n# Make a grid from batch\\nout = torchvision.utils.make_grid(inputs)\\n\\nimshow(out)\\nplt.title([x for x in classes])\\nplt.show()\\n'"
      ]
     },
     "execution_count": 3,
     "metadata": {},
     "output_type": "execute_result"
    }
   ],
   "source": [
    "#展示data_loader中一个batch的图像\n",
    "import numpy as np\n",
    "import torchvision\n",
    "%matplotlib inline\n",
    "import matplotlib.pyplot as plt\n",
    "\n",
    "def imshow(inp):\n",
    "    \"\"\"Imshow for Tensor.\"\"\"\n",
    "    inp = inp.numpy().transpose((1,2,0))\n",
    "    #inp = inp.numpy()\n",
    "    inp = np.uint8(inp)\n",
    "    plt.imshow(inp)\n",
    "\n",
    "'''\n",
    "# Get a batch of training data\n",
    "inputs, classes = next(iter(data_loader))\n",
    "# Make a grid from batch\n",
    "out = torchvision.utils.make_grid(inputs)\n",
    "\n",
    "imshow(out)\n",
    "plt.title([x for x in classes])\n",
    "plt.show()\n",
    "'''"
   ]
  },
  {
   "cell_type": "code",
   "execution_count": 4,
   "metadata": {
    "collapsed": false
   },
   "outputs": [
    {
     "data": {
      "text/plain": [
       "'\\nsigma_list=[1,2,4,8,16]\\n#print(out1.data, out2.data)\\nif out1.size(0)==out2.size(0):\\n    mmd2_D = mix_rbf_mmd2(out1,out2, sigma_list)\\n    mmd2_D = F.relu(mmd2_D)\\n    mmd_loss=mmd2_D\\n'"
      ]
     },
     "execution_count": 4,
     "metadata": {},
     "output_type": "execute_result"
    }
   ],
   "source": [
    "#MMD的pytorch实现\n",
    "\n",
    "import torch\n",
    "\n",
    "def _mix_rbf_kernel(X, Y, sigma_list):\n",
    "    assert(X.size(0) == Y.size(0))\n",
    "    m = X.size(0)\n",
    "\n",
    "    Z = torch.cat((X, Y), 0)\n",
    "    ZZT = torch.mm(Z, Z.t())\n",
    "    diag_ZZT = torch.diag(ZZT).unsqueeze(1)\n",
    "    Z_norm_sqr = diag_ZZT.expand_as(ZZT)\n",
    "    exponent = Z_norm_sqr - 2 * ZZT + Z_norm_sqr.t()\n",
    "\n",
    "    K = 0.0\n",
    "    for sigma in sigma_list:\n",
    "        gamma = 1.0 / (2 * sigma**2)\n",
    "        K += torch.exp(-gamma * exponent)\n",
    "\n",
    "    return K[:m, :m], K[:m, m:], K[m:, m:], len(sigma_list)\n",
    "\n",
    "def mix_rbf_mmd2(X, Y, sigma_list, biased=True):\n",
    "    K_XX, K_XY, K_YY, d = _mix_rbf_kernel(X, Y, sigma_list)\n",
    "    # return _mmd2(K_XX, K_XY, K_YY, const_diagonal=d, biased=biased)\n",
    "    return _mmd2(K_XX, K_XY, K_YY, const_diagonal=False, biased=biased)\n",
    "\n",
    "def _mmd2(K_XX, K_XY, K_YY, const_diagonal=False, biased=False):\n",
    "    m = K_XX.size(0)    # assume X, Y are same shape\n",
    "\n",
    "    # Get the various sums of kernels that we'll use\n",
    "    # Kts drop the diagonal, but we don't need to compute them explicitly\n",
    "    if const_diagonal is not False:\n",
    "        diag_X = diag_Y = const_diagonal\n",
    "        sum_diag_X = sum_diag_Y = m * const_diagonal\n",
    "    else:\n",
    "        diag_X = torch.diag(K_XX)                       # (m,)\n",
    "        diag_Y = torch.diag(K_YY)                       # (m,)\n",
    "        sum_diag_X = torch.sum(diag_X)\n",
    "        sum_diag_Y = torch.sum(diag_Y)\n",
    "\n",
    "    Kt_XX_sums = K_XX.sum(dim=1) - diag_X             # \\tilde{K}_XX * e = K_XX * e - diag_X\n",
    "    Kt_YY_sums = K_YY.sum(dim=1) - diag_Y             # \\tilde{K}_YY * e = K_YY * e - diag_Y\n",
    "    K_XY_sums_0 = K_XY.sum(dim=0)                     # K_{XY}^T * e\n",
    "\n",
    "    Kt_XX_sum = Kt_XX_sums.sum()                       # e^T * \\tilde{K}_XX * e\n",
    "    Kt_YY_sum = Kt_YY_sums.sum()                       # e^T * \\tilde{K}_YY * e\n",
    "    K_XY_sum = K_XY_sums_0.sum()                       # e^T * K_{XY} * e\n",
    "\n",
    "    if biased:\n",
    "        mmd2 = ((Kt_XX_sum + sum_diag_X) / (m * m)\n",
    "            + (Kt_YY_sum + sum_diag_Y) / (m * m)\n",
    "            - 2.0 * K_XY_sum / (m * m))\n",
    "    else:\n",
    "        mmd2 = (Kt_XX_sum / (m * (m - 1))\n",
    "            + Kt_YY_sum / (m * (m - 1))\n",
    "            - 2.0 * K_XY_sum / (m * m))\n",
    "\n",
    "    return mmd2\n",
    "\n",
    "'''\n",
    "sigma_list=[1,2,4,8,16]\n",
    "#print(out1.data, out2.data)\n",
    "if out1.size(0)==out2.size(0):\n",
    "    mmd2_D = mix_rbf_mmd2(out1,out2, sigma_list)\n",
    "    mmd2_D = F.relu(mmd2_D)\n",
    "    mmd_loss=mmd2_D\n",
    "'''"
   ]
  },
  {
   "cell_type": "code",
   "execution_count": 5,
   "metadata": {
    "collapsed": true
   },
   "outputs": [],
   "source": [
    "#载入与训练模型参数\n",
    "# load AlexNet pre-trained model\n",
    "from torch.utils import model_zoo\n",
    "\n",
    "def load_pretrained(model):\n",
    "    url = 'https://download.pytorch.org/models/alexnet-owt-4df8aa71.pth'\n",
    "    pretrained_dict = model_zoo.load_url(url)\n",
    "    model_dict = model.state_dict()\n",
    "\n",
    "    # filter out unmatch dict and delete last fc bias, weight\n",
    "    pretrained_dict = {k: v for k, v in pretrained_dict.items() if k in model_dict}\n",
    "    # del pretrained_dict['classifier.6.bias']\n",
    "    # del pretrained_dict['classifier.6.weight']\n",
    "\n",
    "    model_dict.update(pretrained_dict)\n",
    "    model.load_state_dict(model_dict)\n"
   ]
  },
  {
   "cell_type": "code",
   "execution_count": 6,
   "metadata": {
    "collapsed": false
   },
   "outputs": [
    {
     "data": {
      "text/plain": [
       "\"\\noptimizer = torch.optim.SGD([\\n        {'params': model.sharedNet.parameters()},\\n        {'params': model.source_fc.parameters(), 'lr': 10*LEARNING_RATE},\\n        {'params': model.target_fc.parameters(), 'lr': 10*LEARNING_RATE}\\n    ], lr=LEARNING_RATE, momentum=MOMENTUM)\\n\""
      ]
     },
     "execution_count": 6,
     "metadata": {},
     "output_type": "execute_result"
    }
   ],
   "source": [
    "#优化函数\n",
    "'''\n",
    "optimizer = torch.optim.SGD([\n",
    "        {'params': model.sharedNet.parameters()},\n",
    "        {'params': model.source_fc.parameters(), 'lr': 10*LEARNING_RATE},\n",
    "        {'params': model.target_fc.parameters(), 'lr': 10*LEARNING_RATE}\n",
    "    ], lr=LEARNING_RATE, momentum=MOMENTUM)\n",
    "'''"
   ]
  },
  {
   "cell_type": "code",
   "execution_count": null,
   "metadata": {
    "collapsed": true
   },
   "outputs": [],
   "source": []
  }
 ],
 "metadata": {
  "kernelspec": {
   "display_name": "Python 2",
   "language": "python",
   "name": "python2"
  },
  "language_info": {
   "codemirror_mode": {
    "name": "ipython",
    "version": 2
   },
   "file_extension": ".py",
   "mimetype": "text/x-python",
   "name": "python",
   "nbconvert_exporter": "python",
   "pygments_lexer": "ipython2",
   "version": "2.7.6"
  }
 },
 "nbformat": 4,
 "nbformat_minor": 1
}
