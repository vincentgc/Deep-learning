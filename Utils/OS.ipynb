{
 "cells": [
  {
   "cell_type": "markdown",
   "metadata": {},
   "source": [
    "# 系统工具"
   ]
  },
  {
   "cell_type": "markdown",
   "metadata": {},
   "source": [
    "## 目录：\n",
    "* 图片转格式\n",
    "* 运行时间计算"
   ]
  },
  {
   "cell_type": "markdown",
   "metadata": {},
   "source": [
    "## 图片转格式"
   ]
  },
  {
   "cell_type": "code",
   "execution_count": 1,
   "metadata": {
    "collapsed": true
   },
   "outputs": [],
   "source": [
    "#一个图片转格式的程序\n",
    "import glob\n",
    "from PIL import Image\n",
    "import numpy as np"
   ]
  },
  {
   "cell_type": "code",
   "execution_count": 6,
   "metadata": {
    "collapsed": false
   },
   "outputs": [
    {
     "name": "stdout",
     "output_type": "stream",
     "text": [
      "['./WP7/classes/46.png', './WP7/classes/49.png', './WP7/classes/18.png', './WP7/classes/68.png', './WP7/classes/31.png', './WP7/classes/29.png', './WP7/classes/2.png', './WP7/classes/35.png', './WP7/classes/47.png', './WP7/classes/69.png', './WP7/classes/60.png', './WP7/classes/52.png', './WP7/classes/7.png', './WP7/classes/40.png', './WP7/classes/92.png', './WP7/classes/95.png', './WP7/classes/90.png', './WP7/classes/3.png', './WP7/classes/42.png', './WP7/classes/88.png', './WP7/classes/15.png', './WP7/classes/62.png', './WP7/classes/89.png', './WP7/classes/4.png', './WP7/classes/58.png', './WP7/classes/93.png', './WP7/classes/85.png', './WP7/classes/13.png', './WP7/classes/65.png', './WP7/classes/48.png', './WP7/classes/45.png', './WP7/classes/25.png', './WP7/classes/80.png', './WP7/classes/37.png', './WP7/classes/84.png', './WP7/classes/82.png', './WP7/classes/51.png', './WP7/classes/75.png', './WP7/classes/83.png', './WP7/classes/43.png', './WP7/classes/67.png', './WP7/classes/64.png', './WP7/classes/17.png', './WP7/classes/72.png', './WP7/classes/32.png', './WP7/classes/26.png', './WP7/classes/16.png', './WP7/classes/53.png', './WP7/classes/23.png', './WP7/classes/56 .png', './WP7/classes/54.png', './WP7/classes/27.png', './WP7/classes/9.png', './WP7/classes/87.png', './WP7/classes/41.png', './WP7/classes/44.png', './WP7/classes/12.png', './WP7/classes/57.png', './WP7/classes/50.png', './WP7/classes/30.png', './WP7/classes/70.png', './WP7/classes/61.png', './WP7/classes/39.png', './WP7/classes/24.png', './WP7/classes/73.png', './WP7/classes/74.png', './WP7/classes/36.png', './WP7/classes/8.png', './WP7/classes/6.png', './WP7/classes/59.png', './WP7/classes/94.png', './WP7/classes/71.png', './WP7/classes/38.png', './WP7/classes/34.png', './WP7/classes/63.png', './WP7/classes/66.png', './WP7/classes/76.png', './WP7/classes/33.png', './WP7/classes/1.png', './WP7/classes/81.png', './WP7/classes/77.png', './WP7/classes/78.png', './WP7/classes/79.png', './WP7/classes/86.png', './WP7/classes/55.png', './WP7/classes/91.png', './WP7/classes/19.png', './WP7/classes/14.png']\n"
     ]
    }
   ],
   "source": [
    "root = './WP7/classes/'#图片文件夹\n",
    "image_list = glob.glob(root + '*.png')#遍历后缀为xxxde文件\n",
    "print image_list"
   ]
  },
  {
   "cell_type": "code",
   "execution_count": 4,
   "metadata": {
    "collapsed": true
   },
   "outputs": [],
   "source": [
    "def preprocess(image):\n",
    "    im = np.array(image)#图片转列表\n",
    "    image2 = Image.fromarray(im)#列表转图片\n",
    "    return image2\n",
    "for i in image_list:\n",
    "    image_name = i.split('.')[1]\n",
    "    image = Image.open(i)\n",
    "    image = image.resize((640,480))\n",
    "    save_name = '.' + image_name + '.png'\n",
    "    image = preprocess(image)\n",
    "    image.save(save_name)\n",
    "    print '{} is done'.format(i)"
   ]
  },
  {
   "cell_type": "markdown",
   "metadata": {
    "collapsed": true
   },
   "source": [
    "## 运行时间计算"
   ]
  },
  {
   "cell_type": "code",
   "execution_count": null,
   "metadata": {
    "collapsed": true
   },
   "outputs": [],
   "source": [
    "import time\n",
    "since = time.time()\n",
    "#func()\n",
    "time_elapsed = time.time() - since\n",
    "print('Training complete in {:.0f}m {:.0f}s'.format(\n",
    "        time_elapsed // 60, time_elapsed % 60))"
   ]
  }
 ],
 "metadata": {
  "kernelspec": {
   "display_name": "Python 2",
   "language": "python",
   "name": "python2"
  },
  "language_info": {
   "codemirror_mode": {
    "name": "ipython",
    "version": 2
   },
   "file_extension": ".py",
   "mimetype": "text/x-python",
   "name": "python",
   "nbconvert_exporter": "python",
   "pygments_lexer": "ipython2",
   "version": "2.7.6"
  }
 },
 "nbformat": 4,
 "nbformat_minor": 1
}
